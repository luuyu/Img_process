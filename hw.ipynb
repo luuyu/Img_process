{
 "cells": [
  {
   "cell_type": "code",
   "execution_count": 1,
   "metadata": {},
   "outputs": [],
   "source": [
    "import cv2 as cv \n",
    "import numpy as np\n",
    "\n",
    "#----------------read img----------------#\n",
    "img = cv.imread(\"test.png\")\n",
    "img_gray = cv.cvtColor(img, cv.COLOR_BGR2GRAY) # convert to gray-img\n",
    "#----------------------------------------#"
   ]
  },
  {
   "cell_type": "code",
   "execution_count": 2,
   "metadata": {},
   "outputs": [],
   "source": [
    "#----------------add gauss noise to img---------------#\n",
    "def add_noise(img, sigma, aver):\n",
    "    img_copy = img.copy() # generate a copy version\n",
    "    row, col = img_copy.shape\n",
    "    for x in range(0, row):\n",
    "        for y in range(0, col):\n",
    "            # add gauss noise to each pixel\n",
    "            img_copy[x, y] += np.random.normal(aver, sigma ** 2, 1)[0]\n",
    "    return img_copy\n",
    "#------------------------------------------------------#"
   ]
  },
  {
   "cell_type": "code",
   "execution_count": 3,
   "metadata": {},
   "outputs": [],
   "source": [
    "#-----------------generate gauss kernel------------------#\n",
    "def gauss_kernel(k_size, sigma):\n",
    "    kernel = np.zeros([k_size, k_size])\n",
    "    center = k_size\n",
    "    if sigma == 0:\n",
    "        # default sigma\n",
    "        sigma = ((k_size - 1) * 0.5 - 1) * 0.3 + 0.8\n",
    "    sum_kernel = 0 # use it to normalize the kernel\n",
    "    for i in range(0, k_size):\n",
    "        for j in range(0, k_size):\n",
    "            a = i - center\n",
    "            b = j - center\n",
    "            # compute the origin kernel\n",
    "            kernel[i, j] = np.exp( -(a**2 + b**2) / (2 * (sigma**2)))\n",
    "            sum_kernel += kernel[i, j]\n",
    "    kernel = kernel * (1/sum_kernel) # normalization\n",
    "    return kernel\n",
    "#-------------------------------------------------------#"
   ]
  },
  {
   "cell_type": "code",
   "execution_count": 4,
   "metadata": {},
   "outputs": [],
   "source": [
    "#---------------gauss filter----------------#\n",
    "def gauss_filter(img, kernel):\n",
    "    k_size = np.size(kernel,0)\n",
    "    row = img.shape[0]\n",
    "    col = img.shape[1]\n",
    "    # expand the border of img\n",
    "    extra_l = int((k_size - 1) / 2)\n",
    "    img = cv.copyMakeBorder(img, extra_l, extra_l, extra_l, extra_l, borderType=cv.BORDER_REPLICATE)\n",
    "    \n",
    "    # filter\n",
    "    # start by the origin of old img\n",
    "    s_x, s_y = extra_l, extra_l\n",
    "    for x in range(0, row):\n",
    "        for y in range(0, col):\n",
    "            x_begin = s_x - extra_l\n",
    "            x_end = s_x + extra_l\n",
    "            y_begin = s_y - extra_l\n",
    "            y_end = s_y - extra_l\n",
    "            # compute the new img[x,y]\n",
    "            img[s_x, s_y] = np.sum(img[x_begin : x_end + 1, y_begin : y_end + 1] * kernel)\n",
    "            # kernel move to the right one by one\n",
    "            s_y += 1\n",
    "        # kernel move to the bottom one by one\n",
    "        s_x += 1\n",
    "        # kernel move to the left of next line\n",
    "        s_y = extra_l\n",
    "    \n",
    "    return img[extra_l : row + extra_l, extra_l : col + extra_l]\n",
    "#-----------------------------------------#"
   ]
  },
  {
   "cell_type": "code",
   "execution_count": 10,
   "metadata": {},
   "outputs": [
    {
     "name": "stderr",
     "output_type": "stream",
     "text": [
      "2022-09-10 22:24:11.540 python[14528:316180] IMKClient Stall detected, *please Report* your user scenario attaching a spindump (or sysdiagnose) that captures the problem - (imkxpc_bundleIdentifierWithReply:) block performed very slowly (31.24 secs).\n"
     ]
    },
    {
     "data": {
      "text/plain": [
       "-1"
      ]
     },
     "execution_count": 10,
     "metadata": {},
     "output_type": "execute_result"
    }
   ],
   "source": [
    "#----------filter the img by written function---------------#\n",
    "\n",
    "\n",
    "img_noise = add_noise(img_gray, 3, 0)\n",
    "result = gauss_filter(img_noise, gauss_kernel(3, 0))\n",
    "\n",
    "cv.imshow(\"orgin\", img)\n",
    "cv.imshow(\"gray\", img_gray)\n",
    "cv.imshow(\"gray with noise\", img_noise)\n",
    "cv.imshow(\"result\", result)\n",
    "cv.waitKey(0)\n",
    "cv.destroyAllWindows()\n",
    "cv.waitKey(1)\n",
    "#-----------------------------------------------------------#"
   ]
  },
  {
   "cell_type": "code",
   "execution_count": 17,
   "metadata": {},
   "outputs": [
    {
     "name": "stderr",
     "output_type": "stream",
     "text": [
      "2022-09-10 22:33:09.089 python[14528:316180] IMKClient Stall detected, *please Report* your user scenario attaching a spindump (or sysdiagnose) that captures the problem - (imkxpc_bundleIdentifierWithReply:) block performed very slowly (49.78 secs).\n"
     ]
    },
    {
     "data": {
      "text/plain": [
       "-1"
      ]
     },
     "execution_count": 17,
     "metadata": {},
     "output_type": "execute_result"
    }
   ],
   "source": [
    "#-----------filter the img by library function--------------#\n",
    "img_noise = add_noise(img_gray, 3, 0)\n",
    "result = cv.GaussianBlur(img_noise, ksize= (3,3), sigmaX= 0)\n",
    "cv.imshow(\"orgin\", img)\n",
    "cv.imshow(\"gray\", img_gray)\n",
    "cv.imshow(\"gray with noise\", img_noise)\n",
    "cv.imshow(\"result\", result)\n",
    "cv.waitKey(0)\n",
    "cv.destroyAllWindows()\n",
    "cv.waitKey(1)\n",
    "#-----------------------------------------------------------#"
   ]
  },
  {
   "cell_type": "code",
   "execution_count": 24,
   "metadata": {},
   "outputs": [
    {
     "name": "stderr",
     "output_type": "stream",
     "text": [
      "2022-09-10 22:49:55.804 python[14528:316180] IMKClient Stall detected, *please Report* your user scenario attaching a spindump (or sysdiagnose) that captures the problem - (imkxpc_bundleIdentifierWithReply:) block performed very slowly (53.89 secs).\n"
     ]
    },
    {
     "data": {
      "text/plain": [
       "-1"
      ]
     },
     "execution_count": 24,
     "metadata": {},
     "output_type": "execute_result"
    }
   ],
   "source": [
    "#-------------filter colorful img by written function---------------#\n",
    "img_c = cv.imread(\"test.png\")\n",
    "b,g,r = cv.split(img_c)\n",
    "#print(b,g,r)\n",
    "r_bn = add_noise(b, 3, 0)\n",
    "r_gn = add_noise(g, 3, 0)\n",
    "r_rn = add_noise(r, 3, 0)\n",
    "r_b = gauss_filter(r_bn, gauss_kernel(3, 0))\n",
    "r_g = gauss_filter(r_gn, gauss_kernel(3, 0))\n",
    "r_r = gauss_filter(r_rn, gauss_kernel(3, 0))\n",
    "result = cv.merge([r_b, r_g, r_r])\n",
    "orign_with_noise = cv.merge([r_bn, r_gn, r_rn])\n",
    "cv.imshow(\"orgin\", img)\n",
    "#cv.imshow(\"orign_with_noise\", orign_with_noise)\n",
    "cv.imshow(\"result_color\", result)\n",
    "cv.waitKey(0)\n",
    "cv.destroyAllWindows()\n",
    "cv.waitKey(1)\n",
    "#-------------------------------------------------------------------#"
   ]
  },
  {
   "cell_type": "code",
   "execution_count": 28,
   "metadata": {},
   "outputs": [
    {
     "name": "stderr",
     "output_type": "stream",
     "text": [
      "2022-09-10 22:57:36.118 python[14528:316180] IMKClient Stall detected, *please Report* your user scenario attaching a spindump (or sysdiagnose) that captures the problem - (imkxpc_bundleIdentifierWithReply:) block performed very slowly (34.58 secs).\n"
     ]
    },
    {
     "data": {
      "text/plain": [
       "-1"
      ]
     },
     "execution_count": 28,
     "metadata": {},
     "output_type": "execute_result"
    }
   ],
   "source": [
    "#-------------filter colorful img by library function---------------#\n",
    "img_c = cv.imread(\"test.png\")\n",
    "b,g,r = cv.split(img_c)\n",
    "#print(b,g,r)\n",
    "r_bn = add_noise(b, 3, 0)\n",
    "r_gn = add_noise(g, 3, 0)\n",
    "r_rn = add_noise(r, 3, 0)\n",
    "r_b = cv.GaussianBlur(r_bn, ksize= (3,3), sigmaX= 0)\n",
    "r_g = cv.GaussianBlur(r_gn, ksize= (3,3), sigmaX= 0)\n",
    "r_r = cv.GaussianBlur(r_rn, ksize= (3,3), sigmaX= 0)\n",
    "result = cv.merge([r_b, r_g, r_r])\n",
    "orign_with_noise = cv.merge([r_bn, r_gn, r_rn])\n",
    "cv.imshow(\"orgin\", img)\n",
    "#cv.imshow(\"orign_with_noise\", orign_with_noise)\n",
    "cv.imshow(\"result_color\", result)\n",
    "cv.waitKey(0)\n",
    "cv.destroyAllWindows()\n",
    "cv.waitKey(1)\n",
    "#-------------------------------------------------------------------#"
   ]
  },
  {
   "cell_type": "code",
   "execution_count": null,
   "metadata": {},
   "outputs": [],
   "source": []
  }
 ],
 "metadata": {
  "kernelspec": {
   "display_name": "Python 3.10.4 ('pytorch_env')",
   "language": "python",
   "name": "python3"
  },
  "language_info": {
   "codemirror_mode": {
    "name": "ipython",
    "version": 3
   },
   "file_extension": ".py",
   "mimetype": "text/x-python",
   "name": "python",
   "nbconvert_exporter": "python",
   "pygments_lexer": "ipython3",
   "version": "3.10.4"
  },
  "orig_nbformat": 4,
  "vscode": {
   "interpreter": {
    "hash": "46d362570636f36d66b54da4852e902e5b2e273d5447d7896505cd544af91b6f"
   }
  }
 },
 "nbformat": 4,
 "nbformat_minor": 2
}
